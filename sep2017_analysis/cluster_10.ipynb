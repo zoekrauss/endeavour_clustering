{
 "cells": [
  {
   "cell_type": "code",
   "execution_count": 3,
   "id": "58274e6e-1e67-4057-aaca-1bfed9a6dd01",
   "metadata": {},
   "outputs": [],
   "source": [
    "import pandas as pd\n",
    "import matplotlib.pyplot as plt\n",
    "import numpy as np\n",
    "from obspy.core.event import read_events\n",
    "import obspy\n",
    "import eqcorrscan\n",
    "import eqcorrscan.core.match_filter.template as template\n",
    "from obspy.clients.fdsn.client import Client\n",
    "from eqcorrscan.core.template_gen import template_gen\n",
    "from eqcorrscan import Tribe\n",
    "from datetime import datetime\n",
    "client = Client('IRIS')\n",
    "\n",
    "import warnings\n",
    "warnings.filterwarnings('ignore')"
   ]
  },
  {
   "cell_type": "code",
   "execution_count": 18,
   "id": "4a608849-fc44-4595-871a-3086bb26362a",
   "metadata": {},
   "outputs": [],
   "source": [
    "clust_name = 'growclust10_ev519520'"
   ]
  },
  {
   "cell_type": "code",
   "execution_count": 4,
   "id": "560c5c7a-f4cb-43f9-9741-84402dfa5bc6",
   "metadata": {},
   "outputs": [],
   "source": [
    "# Read in results from all 4 stations\n",
    "# Compare detections between, see if any overlap\n",
    "# Compare the detection list to the original catalog, see how many are new/repeated\n",
    "# Then look into repicking"
   ]
  },
  {
   "cell_type": "markdown",
   "id": "1932eb47-66f1-402c-88a4-2d1dea5f76a7",
   "metadata": {},
   "source": [
    "### Functions below"
   ]
  },
  {
   "cell_type": "code",
   "execution_count": 10,
   "id": "f21f3833-8303-454b-af7e-57ac47716aed",
   "metadata": {
    "jupyter": {
     "source_hidden": true
    },
    "tags": []
   },
   "outputs": [],
   "source": [
    "def read_detections(path,t1,t2):\n",
    "    \n",
    "    time_bins = pd.to_datetime(np.arange(t1,t2,pd.Timedelta(1,'days')))\n",
    "    \n",
    "    parties = []\n",
    "    for t in time_bins:\n",
    "        pfile = path + 'party_' + t.strftime('%m_%d_%Y') + '.tgz'\n",
    "        party = eqcorrscan.core.match_filter.party.Party().read(pfile)\n",
    "        if len(party.families) > 0:\n",
    "            parties.append(party)\n",
    "        else:\n",
    "            print('Detection did not work on ' + t.strftime('%m_%d_%Y'))\n",
    "\n",
    "    # Combine the results from separate days into one party\n",
    "    families = []\n",
    "    num_templates = len(parties[0].families)\n",
    "    for i in range(num_templates):\n",
    "        fam_list = [p[i] for p in parties]\n",
    "        fam = fam_list[0]\n",
    "        for f in fam_list[1:]:\n",
    "            fam = fam.append(f)\n",
    "        families.append(fam)\n",
    "    party = eqcorrscan.core.match_filter.party.Party(families=families)\n",
    "    \n",
    "    return party\n",
    "\n",
    "def pick_corr(phase,sta,chan,t1,t2):\n",
    "    \"\"\"\n",
    "    Cross correlates two phase picks from the same channel and calculates their differential travel times\n",
    "    This function pulls in the waveform data directly from Iris\n",
    "    \n",
    "    INPUT:\n",
    "    phase: 'P' or 'S'; this determines the size of the window cut around the pick time\n",
    "    sta: string, station code \n",
    "    chan: string, channel code\n",
    "    t1: pick time of first pick as UTCDatetime\n",
    "    t2: pick time of second pick as UTCDatetime\n",
    "    ot1: origin time of the earthquake the first pick is for in UTCDatetime\n",
    "    ot2: origin time of the earthquake the second pick is for in UTCDatetime\n",
    "    \n",
    "    RETURNS:\n",
    "    value: maximum cross correlation value of the waveform cut around the two picks\n",
    "    dtt: differential travel times of the two picks\n",
    "    \"\"\"\n",
    "    \n",
    "    if phase=='Z':\n",
    "        t_off=[-0.3,0.5]\n",
    "        t_off=[-1,1.5]\n",
    "    if phase=='E':\n",
    "        t_off = [-1,2.5]\n",
    "        \n",
    "    # Pull in waveforms longer than picks\n",
    "    tr1 = client.get_waveforms('NV',sta,'',chan,t1-5,t1+5).detrend()\n",
    "    tr2 = client.get_waveforms('NV',sta,'',chan,t2-5,t2+5).detrend()\n",
    "    \n",
    "    # Filter\n",
    "    tr1.filter('bandpass',freqmin=8,freqmax=35)\n",
    "    tr2.filter('bandpass',freqmin=8,freqmax=35)\n",
    "    \n",
    "    # Cut the waveforms around picks\n",
    "    tr1.trim(starttime=t1+t_off[0],endtime=t1+t_off[1])\n",
    "    tr2.trim(starttime=t2+t_off[0],endtime=t2+t_off[1])\n",
    "    \n",
    "    # Cross correlate waveforms, allowing them to shift relative to each other for the case of faulty picks\n",
    "    xcor = obspy.signal.cross_correlation.correlate(tr1[0],tr2[0],100)\n",
    "    shift,value = obspy.signal.cross_correlation.xcorr_max(xcor)\n",
    "    \n",
    "    \n",
    "    return(value)\n",
    "\n",
    "\n",
    "def event_corr(pair):\n",
    "    \"\"\"\n",
    "    INPUT:\n",
    "    A tuple of indices of events in the catalog\n",
    "    \n",
    "    For the two events corresponding to those indices, finds the common picks between them and calculates\n",
    "    their cross correlation coefficient and differential travel times\n",
    "    \n",
    "    RETURNS:\n",
    "    A numpy array designed to be easily written to a text file in the format needed for GrowClust\n",
    "    Array has format ((ev1id,ev2id),(commonpick1,commonpick2,...))\n",
    "    Where each commonpick array has the format (station,differential travel time,cross correlation coefficient,phase)\n",
    "    \"\"\"\n",
    "    \n",
    "    path = 'sep2017_mseed/'\n",
    "    \n",
    "    i = pair[0]\n",
    "    j = pair[1]\n",
    "\n",
    "    sta1 = [p.waveform_id.station_code for p in cat[i].picks]\n",
    "    sta2 = [p.waveform_id.station_code for p in cat[j].picks]\n",
    "    pha1 = [p.waveform_id.channel_code[2] for p in cat[i].picks]\n",
    "    pha2 = [p.waveform_id.channel_code[2] for p in cat[j].picks]\n",
    "    picks1 = [a+'_'+pha1[k] for k,a in enumerate(sta1)]\n",
    "    picks2 = [a+'_'+pha2[k] for k,a in enumerate(sta2)]\n",
    "    common_picks = list(set(picks1).intersection(set(picks2)))\n",
    "\n",
    "    pick_arr = np.empty((len(common_picks),3),dtype=object)\n",
    "    for k,p in enumerate(common_picks):\n",
    "        # Find corresponding pick info within each event\n",
    "        # Send to pick_corr to get information\n",
    "        sta,phase = p.split('_')\n",
    "\n",
    "        sta1_ind = [ ind for ind in range(len(sta1)) if sta1[ind] == sta ]\n",
    "        pha1_ind = [ ind for ind in range(len(pha1)) if pha1[ind] == phase ]\n",
    "        pick1_ind = list(set(sta1_ind).intersection(set(pha1_ind)))\n",
    "        pick1 = cat[i].picks[pick1_ind[0]]\n",
    "\n",
    "        sta2_ind = [ ind for ind in range(len(sta2)) if sta2[ind] == sta ]\n",
    "        pha2_ind = [ ind for ind in range(len(pha2)) if pha2[ind] == phase ]\n",
    "        pick2_ind = list(set(sta2_ind).intersection(set(pha2_ind)))\n",
    "        pick2 = cat[j].picks[pick2_ind[0]]\n",
    "\n",
    "        chan = pick1.waveform_id.channel_code\n",
    "        xcor_val = pick_corr(phase,sta,chan,pick1.time,pick2.time)\n",
    "        # xcor_val,dtt = pick_corr(phase,sta,chan,pick1.time,pick2.time,ot1,ot2)\n",
    "\n",
    "        # Write station- and phase-specific line\n",
    "        \n",
    "        pick_arr[k][0]=sta\n",
    "        pick_arr[k][1]=xcor_val\n",
    "        pick_arr[k][2] = phase\n",
    "        \n",
    "    \n",
    "    return(pick_arr)"
   ]
  },
  {
   "cell_type": "code",
   "execution_count": 26,
   "id": "e9f090ae-ea92-42f7-a85b-567000e5d764",
   "metadata": {},
   "outputs": [],
   "source": [
    "t1 = datetime(2017,9,1)\n",
    "t2 = datetime(2017,10,1)"
   ]
  },
  {
   "cell_type": "code",
   "execution_count": null,
   "id": "2bacbbe2-b989-4757-b62d-0465f1c02b8d",
   "metadata": {},
   "outputs": [],
   "source": [
    "path = '/Users/zoekrauss/endeavour_clustering/detections_sep2017_kemo/'\n",
    "party = read_detections(path,t1,t2)"
   ]
  },
  {
   "cell_type": "code",
   "execution_count": null,
   "id": "77fc4845-306b-459d-9bbf-26be15df7abc",
   "metadata": {},
   "outputs": [],
   "source": [
    "for f in kemo_party:\n",
    "    print(f.template.name)\n",
    "    print(f.template.event)\n",
    "    print(f.detections)"
   ]
  },
  {
   "cell_type": "markdown",
   "id": "246caa5c-be56-4d2a-8434-93c7459b1c3f",
   "metadata": {},
   "source": [
    "## Filter to only keep picks with both channels > 0.7 cc"
   ]
  },
  {
   "cell_type": "code",
   "execution_count": 38,
   "id": "7fc52a3e-c363-46e9-b1ec-586f7571050d",
   "metadata": {},
   "outputs": [
    {
     "name": "stdout",
     "output_type": "stream",
     "text": [
      "[['KEMO' 1.0000000000000002 'Z']\n",
      " ['KEMO' 1.0000000000000002 'E']]\n",
      "[['KEMO' 0.589220581663239 'Z']\n",
      " ['KEMO' 0.5276567822582933 'E']]\n",
      "[['KEMO' 0.6846925383765539 'Z']\n",
      " ['KEMO' 0.5483571389659104 'E']]\n",
      "[['KEMO' 0.5912708985882392 'Z']\n",
      " ['KEMO' 0.5480310202366674 'E']]\n",
      "[['KEMO' 0.7302350968488929 'Z']\n",
      " ['KEMO' 0.5359127952821228 'E']]\n",
      "[['KEMO' 0.6317324081240476 'Z']\n",
      " ['KEMO' 0.47381464982040894 'E']]\n",
      "[['KEMO' -0.20882566904547908 'Z']\n",
      " ['KEMO' 0.3450162870994042 'E']]\n",
      "[['KEMO' 0.24710502191302433 'Z']\n",
      " ['KEMO' -0.20772428225602632 'E']]\n",
      "[['KEMO' 0.22966831539266316 'Z']\n",
      " ['KEMO' 0.3221827993461413 'E']]\n",
      "[['KEMO' 1.0000000000000002 'Z']\n",
      " ['ENWF' 0.9999999999999998 'Z']\n",
      " ['NCHR' 0.9999999999999999 'E']\n",
      " ['KEMO' 1.0000000000000002 'E']\n",
      " ['ENWF' 0.9999999999999996 'E']\n",
      " ['NCHR' 1.0000000000000002 'Z']]\n"
     ]
    }
   ],
   "source": [
    "family = [f for f in party if f.template.name==clust_name][0]\n",
    "evs = [det.event for det in family.detections]\n",
    "cat = obspy.core.event.Catalog(events=evs)\n",
    "cat.append(family.template.event)\n",
    "\n",
    "temp = family.template.event\n",
    "template_index = -1\n",
    "\n",
    "keep = []\n",
    "for i,ev in enumerate(cat):\n",
    "    vals = event_corr([template_index,i])\n",
    "    print(vals)"
   ]
  },
  {
   "cell_type": "code",
   "execution_count": null,
   "id": "992639a6-a653-4386-849b-a472bca9906c",
   "metadata": {},
   "outputs": [],
   "source": []
  }
 ],
 "metadata": {
  "kernelspec": {
   "display_name": "alaska-ml",
   "language": "python",
   "name": "alaska-ml"
  },
  "language_info": {
   "codemirror_mode": {
    "name": "ipython",
    "version": 3
   },
   "file_extension": ".py",
   "mimetype": "text/x-python",
   "name": "python",
   "nbconvert_exporter": "python",
   "pygments_lexer": "ipython3",
   "version": "3.9.12"
  }
 },
 "nbformat": 4,
 "nbformat_minor": 5
}
