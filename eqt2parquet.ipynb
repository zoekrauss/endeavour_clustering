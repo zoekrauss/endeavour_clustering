{
 "cells": [
  {
   "cell_type": "markdown",
   "id": "533484af-221e-48f3-a84e-1e5d17a49ba6",
   "metadata": {},
   "source": [
    "### Read in and save output EQT results"
   ]
  },
  {
   "cell_type": "code",
   "execution_count": null,
   "id": "25f02ad5-4d3e-4cd0-b56e-19991411807d",
   "metadata": {},
   "outputs": [],
   "source": [
    "import numpy as np\n",
    "import pandas as pd\n",
    "import shutil\n",
    "import os\n",
    "from zipfile import ZipFile\n",
    "import glob\n",
    "from datetime import datetime, timedelta\n",
    "import matplotlib.pyplot as plt\n",
    "import obspy\n",
    "import glob2 as glob\n",
    "from obspy.clients.fdsn import Client\n",
    "from collections import defaultdict\n",
    "import pyarrow"
   ]
  },
  {
   "cell_type": "code",
   "execution_count": null,
   "id": "a2cb2bb9-5277-4131-8928-16e23aa058fd",
   "metadata": {},
   "outputs": [],
   "source": [
    "base_dirs = ['/home/zkrauss/lynx/end_2017_enwf1','/home/zkrauss/lynx/end_2017_enwfkemo2','/home/zkrauss/lynx/end_2017_kemf1','/home/zkrauss/lynx/end_2017_kemf2','/home/zkrauss/lynx/end_2017_kemo1','/home/zkrauss/lynx/end_2017_nchr1','/home/zkrauss/lynx/end_2017_nchr2']\n",
    "res_files = []\n",
    "for d in base_dirs:\n",
    "    res_files.extend(glob.glob(d + '/**/X*results.csv'))"
   ]
  },
  {
   "cell_type": "code",
   "execution_count": null,
   "id": "e9e13f05-1a4d-4c9b-b94f-816be82c11c3",
   "metadata": {},
   "outputs": [],
   "source": [
    "eqt = pd.concat([pd.read_csv(f,engine='pyarrow') for f in res_files])"
   ]
  },
  {
   "cell_type": "code",
   "execution_count": null,
   "id": "628982b4-9990-4c23-8c8d-1969925816dd",
   "metadata": {},
   "outputs": [],
   "source": [
    "# Since P and S waves are saved together, need to split them to compare--\n",
    "eqt_p = eqt.drop(columns=['s_arrival_time','s_probability','s_uncertainty','s_snr'])\n",
    "eqt_p=eqt_p.rename(columns={'p_arrival_time': \"arrival_time\", 'p_probability': \"probability\",'p_uncertainty':\"uncertainty\",'p_snr':\"snr\"})\n",
    "eqt_p['arrival_time']=pd.to_datetime(eqt_p['arrival_time'],infer_datetime_format=True)\n",
    "eqt_p = eqt_p.dropna(subset=['arrival_time'])\n",
    "eqt_s = eqt.drop(columns=['p_arrival_time','p_probability','p_uncertainty','p_snr'])\n",
    "eqt_s=eqt_s.rename(columns={'s_arrival_time': \"arrival_time\", 's_probability': \"probability\",'s_uncertainty':\"uncertainty\",'s_snr':\"snr\"})\n",
    "eqt_s['arrival_time']=pd.to_datetime(eqt_s['arrival_time'],infer_datetime_format=True)\n",
    "eqt_s = eqt_s.dropna(subset=['arrival_time'])\n",
    "eqt_p['phase']=['P']*len(eqt_p)\n",
    "eqt_s['phase']=['S']*len(eqt_s)\n",
    "eqt = pd.concat([eqt_p,eqt_s])\n",
    "eqt.head()"
   ]
  },
  {
   "cell_type": "code",
   "execution_count": null,
   "id": "bdcf915b-46df-4ad3-ae73-6251d16640c8",
   "metadata": {},
   "outputs": [],
   "source": [
    "eqt.to_parquet(path='eqtresults_2017.parquet',version='2.6')"
   ]
  }
 ],
 "metadata": {
  "kernelspec": {
   "display_name": "alaska-ml",
   "language": "python",
   "name": "alaska-ml"
  },
  "language_info": {
   "codemirror_mode": {
    "name": "ipython",
    "version": 3
   },
   "file_extension": ".py",
   "mimetype": "text/x-python",
   "name": "python",
   "nbconvert_exporter": "python",
   "pygments_lexer": "ipython3",
   "version": "3.9.12"
  }
 },
 "nbformat": 4,
 "nbformat_minor": 5
}
