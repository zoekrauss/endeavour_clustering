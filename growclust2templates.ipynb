{
 "cells": [
  {
   "cell_type": "markdown",
   "id": "4a938cf7",
   "metadata": {},
   "source": [
    "## From a GrowClust output catalog, loop through the defined clusters and find the event within the cluster with the highest SNR.\n",
    "## Save that event as an eqcorrscan template for matched-filter detection.\n",
    "## Do this for each cluster!"
   ]
  },
  {
   "cell_type": "code",
   "execution_count": null,
   "id": "fc0c3df3",
   "metadata": {},
   "outputs": [],
   "source": [
    "import pandas as pd\n",
    "import matplotlib.pyplot as plt\n",
    "import numpy as np\n",
    "from obspy.core.event import read_events\n",
    "import obspy\n",
    "import eqcorrscan\n",
    "import eqcorrscan.core.match_filter.template as template\n",
    "from obspy.clients.fdsn.client import Client\n",
    "from eqcorrscan.core.template_gen import template_gen\n",
    "from eqcorrscan import Tribe\n",
    "from datetime import datetime\n",
    "import dask"
   ]
  },
  {
   "cell_type": "markdown",
   "id": "683aad2b",
   "metadata": {},
   "source": [
    "#### Read in GrowClust output catalog:"
   ]
  },
  {
   "cell_type": "code",
   "execution_count": null,
   "id": "06fcac3d",
   "metadata": {},
   "outputs": [],
   "source": [
    "outfile = 'end_out_0835_2.grid3D.cat'"
   ]
  },
  {
   "cell_type": "markdown",
   "id": "52ff6216",
   "metadata": {},
   "source": [
    "#### Get a list of distinct clusters:"
   ]
  },
  {
   "cell_type": "code",
   "execution_count": null,
   "id": "94ce5948",
   "metadata": {},
   "outputs": [],
   "source": [
    "cat = pd.read_csv(outfile,header=None,delim_whitespace=True)\n",
    "cat.rename(columns={0:'yr',1:'mon',2:'day',3:'hr',4:'min',5:'sec',6:'evid',7:'latR',8:'lonR',9:'depR',\\\n",
    "                   10:'mag',11:'ev_serialID',12:'clusterID',13:'clustersize',14:'npair',15:'ndiffP',\\\n",
    "                   16:'ndiffS',17:'rmsP',18:'rmsS',19:'erh',20:'erz',21:'ert',22:'latC',23:'lonC',24:'depC'},inplace=True)\n",
    "\n",
    "# Make a datetime column\n",
    "cat = cat.astype({'yr':'int','mon':'int','day':'int','hr':'int','min':'int'})\n",
    "cat['eventTime'] = cat[[\"yr\",\"mon\",\"day\",\"hr\",\"min\"]].apply(lambda x: '-'.join(x.values.astype(int).astype(str)), axis=\"columns\")\n",
    "cat['eventTime'] = cat[['eventTime','sec']].apply(lambda x: '-'.join(x.values.astype(str)), axis=\"columns\")\n",
    "cat['eventTime']=pd.to_datetime(cat['eventTime'],format='%Y-%m-%d-%H-%M-%S.%f')\n",
    "\n",
    "\n",
    "# Isolate events that actually got relocated\n",
    "reloc = cat[~cat['rmsP'].isnull()]\n",
    "clusters = reloc['clusterID'].unique()"
   ]
  },
  {
   "cell_type": "markdown",
   "id": "488711dc",
   "metadata": {},
   "source": [
    "#### Read in the catalog that was input to GrowClust:"
   ]
  },
  {
   "cell_type": "code",
   "execution_count": null,
   "id": "b39c4a8f",
   "metadata": {},
   "outputs": [],
   "source": [
    "cat = read_events('endquakes_2017.xml')\n",
    "# Add in a phase hint to the picks\n",
    "for event in cat.events:\n",
    "    for pick in event.picks:\n",
    "        pick_id = pick.resource_id\n",
    "        arr = [a for a in event.origins[0].arrivals if a.pick_id==pick_id]\n",
    "        pick.phase_hint=arr[0].phase\n",
    "origin_ids = [str(p.resource_id)[-6:] for p in cat]"
   ]
  },
  {
   "cell_type": "code",
   "execution_count": null,
   "id": "8307ecd5-52c0-4b92-9589-5db71e665460",
   "metadata": {},
   "outputs": [],
   "source": [
    "for event in cat.events:\n",
    "    event.origins[0].resource_id = event.resource_id"
   ]
  },
  {
   "cell_type": "code",
   "execution_count": null,
   "id": "0b03d63f",
   "metadata": {},
   "outputs": [],
   "source": [
    "clust = reloc[reloc['clusterID']==c]"
   ]
  },
  {
   "cell_type": "markdown",
   "id": "619cd38f",
   "metadata": {},
   "source": [
    "#### Loop through clusters and identify the highest SNR event within each cluster."
   ]
  },
  {
   "cell_type": "code",
   "execution_count": null,
   "id": "78cf486a",
   "metadata": {},
   "outputs": [],
   "source": [
    "template_window = [-0.1,2] # time before and after P-wave to trim the template\n",
    "\n",
    "temp_ev_ids = []\n",
    "temps = []\n",
    "for c in clusters:\n",
    "    \n",
    "    # Pull in waveforms for one of the clusters\n",
    "    clust = reloc[reloc['clusterID']==c]\n",
    "    stream_list = []\n",
    "    id_list = []\n",
    "    for id in clust['evid']:\n",
    "        fid1 = 'sep2017_mseed/'+str(id)+'.mseed'\n",
    "        strm = obspy.read(fid1).detrend()\n",
    "         # Filter\n",
    "        strm.filter('bandpass',freqmin=8,freqmax=35)\n",
    "        stream_list.append(strm)\n",
    "        id_list.append(id)\n",
    "        \n",
    "    # Cut them to all be the same length\n",
    "    s_len = np.min([st[0].stats.npts for st in stream_list])\n",
    "    cut_stream_list = []\n",
    "    for st in stream_list:\n",
    "        t1 = st[0].stats.starttime\n",
    "        t2 = t1 + (s_len/200)\n",
    "        st.trim(starttime=t1,endtime=t2,nearest_sample=False)\n",
    "        if st[0].stats.npts > s_len:\n",
    "            cut_stream_list.append(st[:s_len])\n",
    "            \n",
    "    # Find event with highest mean SNR (remember that the miniseeds are saved to have 5 seconds before the P-wave arrival)\n",
    "    snr = []\n",
    "    for st in cut_stream_list:\n",
    "        snr_st = []\n",
    "        for i,tr in enumerate(st):\n",
    "            noise_amp = np.sqrt(np.mean(np.square(tr.data[0:900])))\n",
    "            snr_st.append(max(tr.data) / noise_amp)\n",
    "        snr.append(np.mean(snr_st))\n",
    "    t_ind = np.argmax(snr)\n",
    "    temp_ev_ids.append(id_list[t_ind])\n",
    "    "
   ]
  },
  {
   "cell_type": "markdown",
   "id": "2f7d6204",
   "metadata": {},
   "source": [
    "#### Make a new catalog that consists of the event metadata only for those events with best SNR."
   ]
  },
  {
   "cell_type": "code",
   "execution_count": null,
   "id": "314ff5a2",
   "metadata": {},
   "outputs": [],
   "source": [
    "clust_cat = obspy.core.event.Catalog()\n",
    "for id in temp_ev_ids:\n",
    "    cat_ind = origin_ids.index(str(id))\n",
    "    clust_cat.append(cat[cat_ind])"
   ]
  },
  {
   "cell_type": "markdown",
   "id": "ecb690d4",
   "metadata": {},
   "source": [
    "#### Create an eqcorrscan tribe for those events."
   ]
  },
  {
   "cell_type": "code",
   "execution_count": null,
   "id": "8ef565e1",
   "metadata": {},
   "outputs": [],
   "source": [
    "# Write templates to a tribe\n",
    "client = Client('IRIS')\n",
    "tribe = Tribe().construct(\n",
    "    method=\"from_client\", lowcut=8.0, highcut=35.0, samp_rate=200.0, length=0.5,\n",
    "    filt_order=4, prepick=0.05, client_id=client, catalog=clust_cat, data_pad=20.,\n",
    "    process_len=3600, min_snr=2.0, parallel=True,swin='all',delayed=True)\n",
    "# Rename each template to have the growclust cluster number and the specific event ID\n",
    "for i,t in enumerate(tribe):\n",
    "    t.name = 'growclust'+str(clusters[i])+'_ev'+str(temp_ev_ids[i])"
   ]
  },
  {
   "cell_type": "markdown",
   "id": "0d10051d",
   "metadata": {},
   "source": [
    "#### Save tribe to file."
   ]
  },
  {
   "cell_type": "code",
   "execution_count": null,
   "id": "8337f91f",
   "metadata": {},
   "outputs": [],
   "source": [
    "tribe.write('growclust_templates_sep2017')"
   ]
  },
  {
   "cell_type": "code",
   "execution_count": null,
   "id": "53209126",
   "metadata": {},
   "outputs": [],
   "source": []
  },
  {
   "cell_type": "code",
   "execution_count": null,
   "id": "4c742a09",
   "metadata": {},
   "outputs": [],
   "source": []
  },
  {
   "cell_type": "code",
   "execution_count": null,
   "id": "455cccbd",
   "metadata": {},
   "outputs": [],
   "source": []
  },
  {
   "cell_type": "code",
   "execution_count": null,
   "id": "70af381e",
   "metadata": {},
   "outputs": [],
   "source": [
    "## Practice detecting with these cluster templates."
   ]
  },
  {
   "cell_type": "code",
   "execution_count": null,
   "id": "5c6fb629-0055-4535-b3ff-7c1c25de382d",
   "metadata": {},
   "outputs": [],
   "source": [
    "# Read in templates\n",
    "tribe = eqcorrscan.core.match_filter.tribe.read_tribe('growclust_templates_sep2017.tgz')"
   ]
  },
  {
   "cell_type": "code",
   "execution_count": null,
   "id": "c7ba7a53",
   "metadata": {},
   "outputs": [],
   "source": [
    "%%time\n",
    "\n",
    "# Now detect!\n",
    "client = Client('IRIS')\n",
    "t1 = obspy.UTCDateTime(\"2019-09-01\")\n",
    "t2 = obspy.UTCDateTime(\"2019-09-04\")\n",
    "\n",
    "party = tribe.client_detect(client,t1,t2,threshold=6, threshold_type='MAD',trig_int=1,process_cores=6)"
   ]
  },
  {
   "cell_type": "markdown",
   "id": "1054e1b1-1b5e-4319-b2da-2441d8ab3f2e",
   "metadata": {},
   "source": [
    "## Compare the detections made by a given template to the earthquakes the template represents"
   ]
  },
  {
   "cell_type": "markdown",
   "id": "6f2fae5a-770d-45e4-a9e7-cbbef3e189b4",
   "metadata": {},
   "source": [
    "### Note: it finds all the original earthquakes if I lower the MAD threshold to 6."
   ]
  },
  {
   "cell_type": "code",
   "execution_count": null,
   "id": "a9af13cb",
   "metadata": {},
   "outputs": [],
   "source": [
    "party_ind = 3\n",
    "\n",
    "temp_name = party[party_ind].template.name\n",
    "c_id = int(temp_name.split('growclust')[1].split('_')[0])\n",
    "clust = reloc[reloc['clusterID']==c_id]\n",
    "cat_compare = obspy.core.event.Catalog()\n",
    "for id in clust['evid']:\n",
    "    cat_ind = origin_ids.index(str(id))\n",
    "    cat_compare.append(cat[cat_ind])\n",
    "\n",
    "#cat_compare =cat.filter(\"time > 2017-09-29T09\",\n",
    "#                  \"time < 2017-09-29T10\")\n",
    "auto_times = [datetime.strptime(str(c.origins[0].time),'%Y-%m-%dT%H:%M:%S.%fZ') for c in cat_compare]\n",
    "xcorr_times = [p.detect_time for p in party[party_ind]]\n",
    "\n",
    "\n",
    "fig, ax = plt.subplots(1, 1,figsize=[15,5])\n",
    "ax.vlines(x=auto_times,ymin=0,ymax=1,colors ='r',linewidth=1)\n",
    "ax.vlines(x=xcorr_times,ymin=0,ymax=1,colors ='b',linewidth=1)\n",
    "ax.set_xlim([datetime(2017,9,29,9),datetime(2017,9,29,10)])\n",
    "ax.set_title('Cluster ' + str(c_id))"
   ]
  },
  {
   "cell_type": "markdown",
   "id": "1e07c258-3e74-4d74-b648-6e041e26be9c",
   "metadata": {},
   "source": [
    "### But not if I keep the MAD treshold higher, at 8"
   ]
  },
  {
   "cell_type": "code",
   "execution_count": null,
   "id": "d9947c44-450d-468c-a838-48487714c209",
   "metadata": {},
   "outputs": [],
   "source": [
    "party_ind = 3\n",
    "\n",
    "temp_name = party[party_ind].template.name\n",
    "c_id = int(temp_name.split('growclust')[1].split('_')[0])\n",
    "clust = reloc[reloc['clusterID']==c_id]\n",
    "cat_compare = obspy.core.event.Catalog()\n",
    "for id in clust['evid']:\n",
    "    cat_ind = origin_ids.index(str(id))\n",
    "    cat_compare.append(cat[cat_ind])\n",
    "\n",
    "#cat_compare =cat.filter(\"time > 2017-09-29T09\",\n",
    "#                  \"time < 2017-09-29T10\")\n",
    "auto_times = [datetime.strptime(str(c.origins[0].time),'%Y-%m-%dT%H:%M:%S.%fZ') for c in cat_compare]\n",
    "xcorr_times = [p.detect_time for p in party[party_ind]]\n",
    "\n",
    "\n",
    "fig, ax = plt.subplots(1, 1,figsize=[15,5])\n",
    "ax.vlines(x=auto_times,ymin=0,ymax=1,colors ='r',linewidth=3)\n",
    "ax.vlines(x=xcorr_times,ymin=0,ymax=1,colors ='b',linewidth=1)\n",
    "ax.set_xlim([datetime(2017,9,29,9),datetime(2017,9,29,10)])\n",
    "ax.set_title('Cluster ' + str(c_id))"
   ]
  },
  {
   "cell_type": "code",
   "execution_count": null,
   "id": "b05c7d55-2b3a-48a4-b5b3-8739e617cb6d",
   "metadata": {},
   "outputs": [],
   "source": [
    "%%time\n",
    "\n",
    "# Now detect!\n",
    "client = Client('IRIS')\n",
    "t1 = datetime(2019,9,1)\n",
    "t2 = datetime(2019,9,2)\n",
    "time_bins = pd.to_datetime(np.arange(t1,t2,pd.Timedelta(1,'hours')))\n",
    "\n",
    "@dask.delayed\n",
    "def loop_days(tribe,day1):\n",
    "    t1 = obspy.UTCDateTime(day1)\n",
    "    t2 = obspy.UTCDateTime(day1 + pd.Timedelta(1,'hours'))\n",
    "    try:\n",
    "        party = tribe.client_detect(client,t1,t2,threshold=6, threshold_type='MAD',trig_int=1,save_progress=True,process_cores=1,ignore_bad_data=True,concurrency='multiprocess')\n",
    "    except:\n",
    "        print(day1)\n",
    "        party = []\n",
    "    return party\n",
    "\n",
    "lazy_results = [loop_days(tribe,time) for time in time_bins]\n",
    "    \n",
    "results = dask.compute(lazy_results)\n",
    "\n",
    "#party.write('detections_sep2017')"
   ]
  },
  {
   "cell_type": "code",
   "execution_count": null,
   "id": "87a821a3-952f-41fa-9905-9286302692db",
   "metadata": {},
   "outputs": [],
   "source": [
    "# Combine the results from separate days into one party\n",
    "families = []\n",
    "num_templates = len(results[0][0].families)\n",
    "for i in range(num_templates):\n",
    "    fam_list = [p[i] for p in results[0]]\n",
    "    fam = fam_list[0]\n",
    "    for f in fam_list[1:]:\n",
    "        fam = fam.append(f)\n",
    "    families.append(fam)\n",
    "party2 = eqcorrscan.core.match_filter.party.Party(families=families)"
   ]
  },
  {
   "cell_type": "code",
   "execution_count": null,
   "id": "b7d92041",
   "metadata": {},
   "outputs": [],
   "source": [
    "for ind in range(10):\n",
    "    det = party[3][ind]\n",
    "    fig = plt.figure(figsize=(15, 10))\n",
    "    axs = fig.subplots(len(det.event.picks), 1, gridspec_kw={'hspace': 0})\n",
    "    for i,pick in enumerate(det.event.picks):\n",
    "        t1 = pick.time-5\n",
    "        t2 = pick.time+10\n",
    "        st = client.get_waveforms(\"NV\",pick.waveform_id.station_code,pick.waveform_id.location_code,pick.waveform_id.channel_code,t1,t2)\n",
    "        st.filter('bandpass',freqmin=5,freqmax=20)\n",
    "        st = st.taper(max_percentage=0.2)\n",
    "    \n",
    "        axs[i].plot(st[0].times(),st[0].data) \n",
    "        axs[i].set_title(pick.waveform_id.station_code+':'+pick.waveform_id.channel_code)"
   ]
  },
  {
   "cell_type": "code",
   "execution_count": null,
   "id": "db04bfd0-7456-43c3-a9fb-32000e645a97",
   "metadata": {},
   "outputs": [],
   "source": []
  }
 ],
 "metadata": {
  "kernelspec": {
   "display_name": "alaska-ml",
   "language": "python",
   "name": "alaska-ml"
  },
  "language_info": {
   "codemirror_mode": {
    "name": "ipython",
    "version": 3
   },
   "file_extension": ".py",
   "mimetype": "text/x-python",
   "name": "python",
   "nbconvert_exporter": "python",
   "pygments_lexer": "ipython3",
   "version": "3.9.12"
  }
 },
 "nbformat": 4,
 "nbformat_minor": 5
}
