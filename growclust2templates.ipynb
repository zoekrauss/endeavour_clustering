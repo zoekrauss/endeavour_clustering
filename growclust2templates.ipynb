{
 "cells": [
  {
   "cell_type": "markdown",
   "id": "4a938cf7",
   "metadata": {},
   "source": [
    "## From a GrowClust output catalog, loop through the defined clusters and find the event within the cluster with the highest SNR.\n",
    "## Save that event as an eqcorrscan template for matched-filter detection.\n",
    "## Do this for each cluster!"
   ]
  },
  {
   "cell_type": "code",
   "execution_count": 20,
   "id": "fc0c3df3",
   "metadata": {},
   "outputs": [],
   "source": [
    "import pandas as pd\n",
    "import matplotlib.pyplot as plt\n",
    "import numpy as np\n",
    "from obspy.core.event import read_events\n",
    "import obspy\n",
    "import eqcorrscan\n",
    "import eqcorrscan.core.match_filter.template as template\n",
    "from obspy.clients.fdsn.client import Client\n",
    "from eqcorrscan.core.template_gen import template_gen\n",
    "from eqcorrscan import Tribe\n",
    "from datetime import datetime\n",
    "import dask"
   ]
  },
  {
   "cell_type": "markdown",
   "id": "683aad2b",
   "metadata": {},
   "source": [
    "#### Read in GrowClust output catalog:"
   ]
  },
  {
   "cell_type": "code",
   "execution_count": 21,
   "id": "06fcac3d",
   "metadata": {},
   "outputs": [],
   "source": [
    "outfile = 'end_out_0835_2.grid3D.cat'"
   ]
  },
  {
   "cell_type": "code",
   "execution_count": 6,
   "id": "a03e6b6a-47da-41c4-ac27-f80ace405e4b",
   "metadata": {},
   "outputs": [],
   "source": [
    "outfile = '/Users/zoekrauss/GrowClust3D/endeavour/data/out/end_out_ngoodmin1.grid3D.cat'"
   ]
  },
  {
   "cell_type": "markdown",
   "id": "52ff6216",
   "metadata": {},
   "source": [
    "#### Get a list of distinct clusters:"
   ]
  },
  {
   "cell_type": "code",
   "execution_count": 22,
   "id": "94ce5948",
   "metadata": {},
   "outputs": [],
   "source": [
    "cat = pd.read_csv(outfile,header=None,delim_whitespace=True)\n",
    "cat.rename(columns={0:'yr',1:'mon',2:'day',3:'hr',4:'min',5:'sec',6:'evid',7:'latR',8:'lonR',9:'depR',\\\n",
    "                   10:'mag',11:'ev_serialID',12:'clusterID',13:'clustersize',14:'npair',15:'ndiffP',\\\n",
    "                   16:'ndiffS',17:'rmsP',18:'rmsS',19:'erh',20:'erz',21:'ert',22:'latC',23:'lonC',24:'depC'},inplace=True)\n",
    "\n",
    "# Make a datetime column\n",
    "cat = cat.astype({'yr':'int','mon':'int','day':'int','hr':'int','min':'int'})\n",
    "cat['eventTime'] = cat[[\"yr\",\"mon\",\"day\",\"hr\",\"min\"]].apply(lambda x: '-'.join(x.values.astype(int).astype(str)), axis=\"columns\")\n",
    "cat['eventTime'] = cat[['eventTime','sec']].apply(lambda x: '-'.join(x.values.astype(str)), axis=\"columns\")\n",
    "cat['eventTime']=pd.to_datetime(cat['eventTime'],format='%Y-%m-%d-%H-%M-%S.%f')\n",
    "\n",
    "\n",
    "# Isolate events that actually got relocated\n",
    "reloc = cat[~cat['rmsP'].isnull()]\n",
    "clusters = reloc['clusterID'].unique()"
   ]
  },
  {
   "cell_type": "markdown",
   "id": "488711dc",
   "metadata": {},
   "source": [
    "#### Read in the catalog that was input to GrowClust:"
   ]
  },
  {
   "cell_type": "code",
   "execution_count": 23,
   "id": "b39c4a8f",
   "metadata": {},
   "outputs": [],
   "source": [
    "cat = read_events('endquakes_2017.xml')\n",
    "# Add in a phase hint to the picks\n",
    "for event in cat.events:\n",
    "    for pick in event.picks:\n",
    "        pick_id = pick.resource_id\n",
    "        arr = [a for a in event.origins[0].arrivals if a.pick_id==pick_id]\n",
    "        pick.phase_hint=arr[0].phase\n",
    "origin_ids = [str(p.resource_id)[-6:] for p in cat]"
   ]
  },
  {
   "cell_type": "code",
   "execution_count": 24,
   "id": "8307ecd5-52c0-4b92-9589-5db71e665460",
   "metadata": {
    "tags": []
   },
   "outputs": [],
   "source": [
    "for event in cat.events:\n",
    "    event.origins[0].resource_id = event.resource_id"
   ]
  },
  {
   "cell_type": "code",
   "execution_count": 25,
   "id": "ce6471df-91ee-401f-b8d4-ba6e846b3b75",
   "metadata": {},
   "outputs": [
    {
     "data": {
      "text/plain": [
       "array([ 1,  4,  2,  3, 10,  5, 17,  8,  6, 24,  7, 16])"
      ]
     },
     "execution_count": 25,
     "metadata": {},
     "output_type": "execute_result"
    }
   ],
   "source": [
    "clusters"
   ]
  },
  {
   "cell_type": "code",
   "execution_count": 46,
   "id": "0b03d63f",
   "metadata": {},
   "outputs": [],
   "source": [
    "c = 3\n",
    "clust = reloc[reloc['clusterID']==c]"
   ]
  },
  {
   "cell_type": "code",
   "execution_count": 51,
   "id": "4075ee8b-acec-49ac-9dc7-f186d13a406f",
   "metadata": {},
   "outputs": [
    {
     "name": "stdout",
     "output_type": "stream",
     "text": [
      "        yr  mon  day  hr  min     sec    evid      latR       lonR   depR  \\\n",
      "8663  2017    9    2  12   52  14.914  519484  48.01089 -129.08717  1.375   \n",
      "8665  2017    9    2  12   53  44.591  519486  48.01134 -129.08760  1.353   \n",
      "8749  2017    9    3  14    9  26.141  519626  48.02230 -129.07404  1.487   \n",
      "8837  2017    9    3  20   45  19.850  519790  48.01540 -129.09020  1.878   \n",
      "8838  2017    9    3  20   45  38.420  519791  48.01737 -129.09092  1.670   \n",
      "8844  2017    9    3  21    4  17.257  519798  48.02222 -129.09042  1.787   \n",
      "8885  2017    9    5   5    6  18.624  519880  48.01935 -129.08512  1.203   \n",
      "8886  2017    9    5   5    8  14.325  519881  48.01575 -129.07194  1.831   \n",
      "8887  2017    9    5   5   11  55.649  519882  48.02101 -129.07853  2.342   \n",
      "8930  2017    9    7  23    9  14.426  519950  48.02157 -129.06578  3.676   \n",
      "9018  2017    9    9   0   33  57.712  520064  48.01255 -129.10925  3.299   \n",
      "9020  2017    9    9   3    8   2.232  520066  48.01985 -129.08850  1.834   \n",
      "9024  2017    9    9   6    2  54.381  520072  48.02004 -129.08011  2.170   \n",
      "9078  2017    9   10  17   45  23.298  520133  48.01974 -129.08838  1.836   \n",
      "9079  2017    9   10  19   38  24.843  520135  48.00659 -129.08907 -0.076   \n",
      "9080  2017    9   10  19   39  33.377  520136  48.00632 -129.08775  0.021   \n",
      "9081  2017    9   10  19   39  56.694  520137  48.00629 -129.08863  0.066   \n",
      "9082  2017    9   10  19   40  41.750  520138  48.00713 -129.08953  0.031   \n",
      "9083  2017    9   10  19   53  52.405  520139  48.00643 -129.08806 -0.017   \n",
      "9084  2017    9   10  20   19  53.654  520140  48.00721 -129.08960  0.033   \n",
      "9124  2017    9   12  19   19  24.016  520199  48.01175 -129.09604 -0.026   \n",
      "9125  2017    9   12  19   38   0.020  520200  48.01184 -129.08718  0.085   \n",
      "9132  2017    9   12  19   47  13.412  520207  48.01175 -129.09654 -0.113   \n",
      "9133  2017    9   12  20   45   3.095  520210  47.99289 -129.07838  0.881   \n",
      "9147  2017    9   13  20   27  24.434  520226  48.03611 -129.12100  3.921   \n",
      "9184  2017    9   15  12   11  47.221  520274  48.02250 -129.11376  4.298   \n",
      "9189  2017    9   15  12   29  13.476  520280  48.02246 -129.11387  4.172   \n",
      "9190  2017    9   15  12   30  13.254  520281  48.02244 -129.11383  4.186   \n",
      "9191  2017    9   15  12   32  51.460  520282  48.02241 -129.11387  4.179   \n",
      "9193  2017    9   15  13   37  42.885  520284  48.02248 -129.11431  4.062   \n",
      "9194  2017    9   15  13   38  17.423  520285  48.02234 -129.11406  4.101   \n",
      "9195  2017    9   15  13   40   2.392  520286  48.02076 -129.12077  3.981   \n",
      "9196  2017    9   15  13   40   6.068  520287  48.02255 -129.11284  4.181   \n",
      "9197  2017    9   15  13   43  54.054  520288  48.02236 -129.11415  4.141   \n",
      "9198  2017    9   15  13   49  12.261  520289  48.02202 -129.11359  4.189   \n",
      "9199  2017    9   15  13   49  18.408  520290  48.02226 -129.11360  4.199   \n",
      "9203  2017    9   15  18    0   3.469  520295  48.02238 -129.11389  4.185   \n",
      "9205  2017    9   15  18   52   8.728  520297  48.02232 -129.11394  4.191   \n",
      "9206  2017    9   15  18   55  49.823  520299  48.02233 -129.11389  4.161   \n",
      "9207  2017    9   15  19    2  25.845  520300  48.02230 -129.11380  4.252   \n",
      "9209  2017    9   15  21   56  57.138  520302  48.02178 -129.11411  4.162   \n",
      "9210  2017    9   15  21   57   7.943  520304  48.02251 -129.11324  4.181   \n",
      "9211  2017    9   15  21   59   3.365  520306  48.02185 -129.11455  4.216   \n",
      "9214  2017    9   16   2   13  57.643  520309  48.00621 -129.09026 -0.182   \n",
      "9215  2017    9   16   2   16  39.027  520310  48.00585 -129.08959 -0.211   \n",
      "9224  2017    9   16  10   27  43.398  520320  48.01316 -129.09256  0.804   \n",
      "9226  2017    9   16  10   29  17.962  520323  48.01247 -129.09364  0.779   \n",
      "9227  2017    9   16  10   29  32.967  520324  48.01109 -129.09125  0.935   \n",
      "9352  2017    9   19   7    8  59.478  520476  48.01991 -129.11234  4.140   \n",
      "9358  2017    9   19  13   54  34.745  520482  48.03833 -129.12170  3.165   \n",
      "9375  2017    9   20  11   51   9.830  520507  48.02280 -129.09183  2.170   \n",
      "9376  2017    9   20  11   53  23.462  520508  48.02284 -129.09204  2.152   \n",
      "9377  2017    9   20  11   53  34.809  520509  48.02240 -129.09118  2.266   \n",
      "9378  2017    9   20  11   54  58.355  520510  48.02252 -129.09196  2.125   \n",
      "9423  2017    9   22   6   58  35.892  520586  48.02230 -129.12261  5.601   \n",
      "9439  2017    9   23   2   46  55.631  520612  48.01825 -129.15033  3.669   \n",
      "9513  2017    9   25   8   46  32.642  520714  48.03538 -129.10148  3.044   \n",
      "9516  2017    9   25  11   43  45.082  520718  48.01097 -129.08405  1.121   \n",
      "9561  2017    9   26   6   42  56.540  520780  48.03221 -129.12692  4.684   \n",
      "9565  2017    9   26   8   37  10.743  520786  48.01412 -129.12827  2.319   \n",
      "9569  2017    9   26  10   18  41.433  520791  48.01277 -129.09221  0.891   \n",
      "9621  2017    9   28   7   12   3.797  520853  48.03296 -129.12235  4.464   \n",
      "9623  2017    9   28   7   15  27.836  520855  48.03300 -129.12261  4.511   \n",
      "9625  2017    9   28   8   33  33.325  520857  48.03276 -129.12285  4.494   \n",
      "9626  2017    9   28   8   35   9.314  520858  48.03303 -129.12220  4.491   \n",
      "9633  2017    9   28  12   11  19.151  520865  48.04179 -129.13205  5.415   \n",
      "9635  2017    9   28  12   22   0.595  520867  48.04150 -129.13222  5.488   \n",
      "9642  2017    9   28  20   34  26.473  520875  48.01861 -129.08679  1.402   \n",
      "9643  2017    9   28  20   34  39.065  520876  48.02015 -129.08867  1.757   \n",
      "9644  2017    9   28  20   34  49.913  520877  48.01921 -129.08862  1.774   \n",
      "9645  2017    9   28  20   34  55.006  520878  48.01952 -129.08869  1.722   \n",
      "9646  2017    9   28  20   35  29.023  520879  48.01981 -129.08945  1.843   \n",
      "9654  2017    9   29   8   59  51.533  520890  48.02444 -129.10538  2.614   \n",
      "9656  2017    9   29   9    0  35.787  520892  48.02716 -129.11638  2.145   \n",
      "9658  2017    9   29   9    0  55.336  520894  48.02643 -129.08337  2.996   \n",
      "9659  2017    9   29   9    2  37.415  520896  48.02464 -129.10556  2.680   \n",
      "9662  2017    9   29   9   13   6.555  520900  48.00680 -129.07352  5.120   \n",
      "9663  2017    9   29   9   16   2.666  520903  48.02470 -129.10619  2.513   \n",
      "9664  2017    9   29   9   16  30.749  520904  48.02423 -129.10573  2.536   \n",
      "9667  2017    9   29   9   20  36.944  520909  48.02422 -129.10587  2.591   \n",
      "9668  2017    9   29   9   21  39.722  520913  48.02493 -129.10487  2.686   \n",
      "9669  2017    9   29   9   22  35.177  520914  48.02777 -129.10392  2.631   \n",
      "9670  2017    9   29   9   23  27.252  520915  48.02527 -129.10597  2.711   \n",
      "9671  2017    9   29   9   29  17.285  520916  48.02440 -129.10652  2.706   \n",
      "9672  2017    9   29   9   30  25.519  520917  48.02665 -129.10239  2.872   \n",
      "9674  2017    9   29   9   33  37.711  520919  48.02533 -129.11057  2.338   \n",
      "9677  2017    9   29   9   47   1.236  520922  48.02780 -129.11141  2.136   \n",
      "9678  2017    9   29   9   48   1.500  520923  48.02446 -129.10532  2.610   \n",
      "9679  2017    9   29   9   49  45.963  520925  48.02428 -129.10499  2.581   \n",
      "9680  2017    9   29  10    2  31.511  520926  48.02545 -129.10616  2.593   \n",
      "9681  2017    9   29  10    2  50.232  520927  48.02431 -129.10553  2.590   \n",
      "9682  2017    9   29  10    3  42.699  520929  48.02459 -129.10574  2.663   \n",
      "9684  2017    9   29  10   10  51.156  520933  48.02810 -129.10409  2.649   \n",
      "\n",
      "      ...  ndiffS  rmsP  rmsS  erh  erz  ert    latC     lonC   depC  \\\n",
      "8663  ...     131  0.04  0.03  NaN  NaN  NaN  48.011 -129.114  2.991   \n",
      "8665  ...     110  0.00  0.04  NaN  NaN  NaN  48.008 -129.100  1.990   \n",
      "8749  ...      45  0.05  0.13  NaN  NaN  NaN  48.004 -129.064  1.990   \n",
      "8837  ...      23  0.03  0.05  NaN  NaN  NaN  47.976 -129.094  0.029   \n",
      "8838  ...      27  0.01  0.07  NaN  NaN  NaN  48.009 -129.090  1.998   \n",
      "8844  ...      32  0.01  0.08  NaN  NaN  NaN  48.029 -129.079  2.990   \n",
      "8885  ...     116  0.02  0.06  NaN  NaN  NaN  48.013 -129.082  2.010   \n",
      "8886  ...     133  0.03  0.07  NaN  NaN  NaN  48.014 -129.095  1.991   \n",
      "8887  ...     150  0.11  0.06  NaN  NaN  NaN  48.009 -129.095  2.005   \n",
      "8930  ...      50  0.03  0.05  NaN  NaN  NaN  48.009 -129.069  1.990   \n",
      "9018  ...      47  0.02  0.09  NaN  NaN  NaN  48.026 -129.110  3.010   \n",
      "9020  ...      51  0.03  0.06  NaN  NaN  NaN  48.018 -129.082  2.000   \n",
      "9024  ...     120  0.03  0.05  NaN  NaN  NaN  48.020 -129.093  2.991   \n",
      "9078  ...      89  0.02  0.09  NaN  NaN  NaN  48.022 -129.076  2.010   \n",
      "9079  ...      71  0.01  0.11  NaN  NaN  NaN  47.986 -129.093  0.906   \n",
      "9080  ...      59  0.01  0.04  NaN  NaN  NaN  47.999 -129.080  1.990   \n",
      "9081  ...      61  0.02  0.04  NaN  NaN  NaN  47.991 -129.085  0.589   \n",
      "9082  ...      87  0.01  0.07  NaN  NaN  NaN  47.996 -129.084  2.010   \n",
      "9083  ...      66  0.01  0.05  NaN  NaN  NaN  47.993 -129.083  1.990   \n",
      "9084  ...      67  0.02  0.03  NaN  NaN  NaN  47.981 -129.096  0.273   \n",
      "9124  ...      78  0.05  0.05  NaN  NaN  NaN  48.006 -129.095  1.991   \n",
      "9125  ...      75  0.04  0.06  NaN  NaN  NaN  48.004 -129.079  1.990   \n",
      "9132  ...      64  0.01  0.13  NaN  NaN  NaN  48.002 -129.075  1.990   \n",
      "9133  ...      75  0.05  0.12  NaN  NaN  NaN  47.980 -129.091  0.172   \n",
      "9147  ...      63  0.02  0.07  NaN  NaN  NaN  48.034 -129.108  2.990   \n",
      "9184  ...     105  0.02  0.07  NaN  NaN  NaN  48.035 -129.121  2.990   \n",
      "9189  ...     112  0.01  0.03  NaN  NaN  NaN  48.042 -129.122  3.000   \n",
      "9190  ...     114  0.02  0.04  NaN  NaN  NaN  48.031 -129.118  3.010   \n",
      "9191  ...     117  0.01  0.03  NaN  NaN  NaN  48.031 -129.119  2.990   \n",
      "9193  ...      63  0.02  0.05  NaN  NaN  NaN  48.027 -129.120  3.010   \n",
      "9194  ...     126  0.03  0.06  NaN  NaN  NaN  48.032 -129.120  2.991   \n",
      "9195  ...      51  0.02  0.03  NaN  NaN  NaN  48.036 -129.115  3.010   \n",
      "9196  ...     129  0.02  0.06  NaN  NaN  NaN  48.036 -129.115  2.990   \n",
      "9197  ...     127  0.01  0.06  NaN  NaN  NaN  48.033 -129.130  2.990   \n",
      "9198  ...     143  0.02  0.07  NaN  NaN  NaN  48.030 -129.115  3.000   \n",
      "9199  ...      53  0.00  0.02  NaN  NaN  NaN  48.034 -129.123  2.990   \n",
      "9203  ...     136  0.04  0.06  NaN  NaN  NaN  48.033 -129.121  2.990   \n",
      "9205  ...     116  0.03  0.05  NaN  NaN  NaN  48.032 -129.140  2.990   \n",
      "9206  ...      99  0.03  0.05  NaN  NaN  NaN  48.029 -129.119  3.000   \n",
      "9207  ...      50  0.03  0.04  NaN  NaN  NaN  48.027 -129.118  3.010   \n",
      "9209  ...     110  0.01  0.05  NaN  NaN  NaN  48.029 -129.117  2.990   \n",
      "9210  ...     132  0.01  0.06  NaN  NaN  NaN  48.034 -129.141  2.991   \n",
      "9211  ...     121  0.02  0.06  NaN  NaN  NaN  48.034 -129.115  2.990   \n",
      "9214  ...      61  0.01  0.09  NaN  NaN  NaN  48.005 -129.083  1.991   \n",
      "9215  ...      76  0.01  0.05  NaN  NaN  NaN  47.997 -129.081  1.990   \n",
      "9224  ...     107  0.01  0.02  NaN  NaN  NaN  48.011 -129.107  2.990   \n",
      "9226  ...      93  0.01  0.02  NaN  NaN  NaN  48.010 -129.101  2.991   \n",
      "9227  ...     142  0.01  0.08  NaN  NaN  NaN  48.004 -129.099  2.010   \n",
      "9352  ...      80  0.04  0.04  NaN  NaN  NaN  48.034 -129.112  3.010   \n",
      "9358  ...     113  0.01  0.04  NaN  NaN  NaN  48.039 -129.110  2.990   \n",
      "9375  ...      47  0.05  0.05  NaN  NaN  NaN  48.018 -129.067  2.000   \n",
      "9376  ...      26  0.05  0.08  NaN  NaN  NaN  48.028 -129.097  3.000   \n",
      "9377  ...      56  0.05  0.04  NaN  NaN  NaN  48.019 -129.094  2.993   \n",
      "9378  ...      54  0.05  0.05  NaN  NaN  NaN  48.025 -129.071  3.009   \n",
      "9423  ...      42  0.08  0.09  NaN  NaN  NaN  48.037 -129.120  3.010   \n",
      "9439  ...      22  0.06  0.15  NaN  NaN  NaN  48.031 -129.136  3.000   \n",
      "9513  ...      47  0.05  0.08  NaN  NaN  NaN  48.027 -129.112  3.010   \n",
      "9516  ...     167  0.01  0.05  NaN  NaN  NaN  48.008 -129.088  1.990   \n",
      "9561  ...      32  0.02  0.11  NaN  NaN  NaN  48.047 -129.123  2.990   \n",
      "9565  ...      19  0.04  0.06  NaN  NaN  NaN  48.017 -129.134  2.990   \n",
      "9569  ...     125  0.02  0.09  NaN  NaN  NaN  48.004 -129.101  2.990   \n",
      "9621  ...      68  0.03  0.07  NaN  NaN  NaN  48.043 -129.110  2.990   \n",
      "9623  ...      48  0.02  0.14  NaN  NaN  NaN  48.043 -129.123  3.010   \n",
      "9625  ...      38  0.02  0.08  NaN  NaN  NaN  48.039 -129.126  3.010   \n",
      "9626  ...      44  0.02  0.07  NaN  NaN  NaN  48.043 -129.132  2.990   \n",
      "9633  ...      41  0.03  0.08  NaN  NaN  NaN  48.049 -129.101  3.010   \n",
      "9635  ...      22  0.04  0.06  NaN  NaN  NaN  48.045 -129.115  2.990   \n",
      "9642  ...      46  0.08  0.08  NaN  NaN  NaN  48.012 -129.089  1.990   \n",
      "9643  ...      69  0.01  0.10  NaN  NaN  NaN  48.019 -129.077  1.997   \n",
      "9644  ...      68  0.01  0.07  NaN  NaN  NaN  48.017 -129.078  2.010   \n",
      "9645  ...      61  0.00  0.07  NaN  NaN  NaN  48.011 -129.063  2.010   \n",
      "9646  ...      53  0.01  0.08  NaN  NaN  NaN  48.017 -129.075  1.990   \n",
      "9654  ...     134  0.01  0.04  NaN  NaN  NaN  48.026 -129.107  2.990   \n",
      "9656  ...     113  0.00  0.04  NaN  NaN  NaN  48.030 -129.111  2.999   \n",
      "9658  ...     147  0.02  0.05  NaN  NaN  NaN  48.022 -129.065  1.990   \n",
      "9659  ...     137  0.01  0.04  NaN  NaN  NaN  48.025 -129.105  2.990   \n",
      "9662  ...      89  0.14  0.09  NaN  NaN  NaN  47.990 -129.101  2.010   \n",
      "9663  ...     116  0.00  0.05  NaN  NaN  NaN  48.020 -129.107  3.010   \n",
      "9664  ...     126  0.02  0.04  NaN  NaN  NaN  48.021 -129.101  3.000   \n",
      "9667  ...      92  0.01  0.04  NaN  NaN  NaN  48.025 -129.123  2.990   \n",
      "9668  ...     144  0.02  0.04  NaN  NaN  NaN  48.030 -129.101  3.009   \n",
      "9669  ...     141  0.01  0.05  NaN  NaN  NaN  48.023 -129.107  2.991   \n",
      "9670  ...     151  0.01  0.04  NaN  NaN  NaN  48.025 -129.105  3.010   \n",
      "9671  ...     109  0.01  0.04  NaN  NaN  NaN  48.023 -129.107  3.010   \n",
      "9672  ...     135  0.00  0.05  NaN  NaN  NaN  48.030 -129.097  2.990   \n",
      "9674  ...     132  0.01  0.03  NaN  NaN  NaN  48.025 -129.111  2.990   \n",
      "9677  ...      87  0.00  0.07  NaN  NaN  NaN  48.038 -129.091  2.991   \n",
      "9678  ...     145  0.02  0.04  NaN  NaN  NaN  48.026 -129.107  3.010   \n",
      "9679  ...     141  0.00  0.03  NaN  NaN  NaN  48.023 -129.105  3.010   \n",
      "9680  ...      99  0.00  0.03  NaN  NaN  NaN  48.024 -129.091  3.010   \n",
      "9681  ...     136  0.01  0.03  NaN  NaN  NaN  48.033 -129.130  2.990   \n",
      "9682  ...     119  0.01  0.04  NaN  NaN  NaN  48.025 -129.104  2.990   \n",
      "9684  ...     154  0.08  0.05  NaN  NaN  NaN  48.030 -129.113  2.990   \n",
      "\n",
      "                   eventTime  \n",
      "8663 2017-09-02 12:52:14.914  \n",
      "8665 2017-09-02 12:53:44.591  \n",
      "8749 2017-09-03 14:09:26.141  \n",
      "8837 2017-09-03 20:45:19.850  \n",
      "8838 2017-09-03 20:45:38.420  \n",
      "8844 2017-09-03 21:04:17.257  \n",
      "8885 2017-09-05 05:06:18.624  \n",
      "8886 2017-09-05 05:08:14.325  \n",
      "8887 2017-09-05 05:11:55.649  \n",
      "8930 2017-09-07 23:09:14.426  \n",
      "9018 2017-09-09 00:33:57.712  \n",
      "9020 2017-09-09 03:08:02.232  \n",
      "9024 2017-09-09 06:02:54.381  \n",
      "9078 2017-09-10 17:45:23.298  \n",
      "9079 2017-09-10 19:38:24.843  \n",
      "9080 2017-09-10 19:39:33.377  \n",
      "9081 2017-09-10 19:39:56.694  \n",
      "9082 2017-09-10 19:40:41.750  \n",
      "9083 2017-09-10 19:53:52.405  \n",
      "9084 2017-09-10 20:19:53.654  \n",
      "9124 2017-09-12 19:19:24.016  \n",
      "9125 2017-09-12 19:38:00.020  \n",
      "9132 2017-09-12 19:47:13.412  \n",
      "9133 2017-09-12 20:45:03.095  \n",
      "9147 2017-09-13 20:27:24.434  \n",
      "9184 2017-09-15 12:11:47.221  \n",
      "9189 2017-09-15 12:29:13.476  \n",
      "9190 2017-09-15 12:30:13.254  \n",
      "9191 2017-09-15 12:32:51.460  \n",
      "9193 2017-09-15 13:37:42.885  \n",
      "9194 2017-09-15 13:38:17.423  \n",
      "9195 2017-09-15 13:40:02.392  \n",
      "9196 2017-09-15 13:40:06.068  \n",
      "9197 2017-09-15 13:43:54.054  \n",
      "9198 2017-09-15 13:49:12.261  \n",
      "9199 2017-09-15 13:49:18.408  \n",
      "9203 2017-09-15 18:00:03.469  \n",
      "9205 2017-09-15 18:52:08.728  \n",
      "9206 2017-09-15 18:55:49.823  \n",
      "9207 2017-09-15 19:02:25.845  \n",
      "9209 2017-09-15 21:56:57.138  \n",
      "9210 2017-09-15 21:57:07.943  \n",
      "9211 2017-09-15 21:59:03.365  \n",
      "9214 2017-09-16 02:13:57.643  \n",
      "9215 2017-09-16 02:16:39.027  \n",
      "9224 2017-09-16 10:27:43.398  \n",
      "9226 2017-09-16 10:29:17.962  \n",
      "9227 2017-09-16 10:29:32.967  \n",
      "9352 2017-09-19 07:08:59.478  \n",
      "9358 2017-09-19 13:54:34.745  \n",
      "9375 2017-09-20 11:51:09.830  \n",
      "9376 2017-09-20 11:53:23.462  \n",
      "9377 2017-09-20 11:53:34.809  \n",
      "9378 2017-09-20 11:54:58.355  \n",
      "9423 2017-09-22 06:58:35.892  \n",
      "9439 2017-09-23 02:46:55.631  \n",
      "9513 2017-09-25 08:46:32.642  \n",
      "9516 2017-09-25 11:43:45.082  \n",
      "9561 2017-09-26 06:42:56.540  \n",
      "9565 2017-09-26 08:37:10.743  \n",
      "9569 2017-09-26 10:18:41.433  \n",
      "9621 2017-09-28 07:12:03.797  \n",
      "9623 2017-09-28 07:15:27.836  \n",
      "9625 2017-09-28 08:33:33.325  \n",
      "9626 2017-09-28 08:35:09.314  \n",
      "9633 2017-09-28 12:11:19.151  \n",
      "9635 2017-09-28 12:22:00.595  \n",
      "9642 2017-09-28 20:34:26.473  \n",
      "9643 2017-09-28 20:34:39.065  \n",
      "9644 2017-09-28 20:34:49.913  \n",
      "9645 2017-09-28 20:34:55.006  \n",
      "9646 2017-09-28 20:35:29.023  \n",
      "9654 2017-09-29 08:59:51.533  \n",
      "9656 2017-09-29 09:00:35.787  \n",
      "9658 2017-09-29 09:00:55.336  \n",
      "9659 2017-09-29 09:02:37.415  \n",
      "9662 2017-09-29 09:13:06.555  \n",
      "9663 2017-09-29 09:16:02.666  \n",
      "9664 2017-09-29 09:16:30.749  \n",
      "9667 2017-09-29 09:20:36.944  \n",
      "9668 2017-09-29 09:21:39.722  \n",
      "9669 2017-09-29 09:22:35.177  \n",
      "9670 2017-09-29 09:23:27.252  \n",
      "9671 2017-09-29 09:29:17.285  \n",
      "9672 2017-09-29 09:30:25.519  \n",
      "9674 2017-09-29 09:33:37.711  \n",
      "9677 2017-09-29 09:47:01.236  \n",
      "9678 2017-09-29 09:48:01.500  \n",
      "9679 2017-09-29 09:49:45.963  \n",
      "9680 2017-09-29 10:02:31.511  \n",
      "9681 2017-09-29 10:02:50.232  \n",
      "9682 2017-09-29 10:03:42.699  \n",
      "9684 2017-09-29 10:10:51.156  \n",
      "\n",
      "[93 rows x 26 columns]\n"
     ]
    }
   ],
   "source": [
    "with pd.option_context('display.max_rows', None):\n",
    "    print(clust)"
   ]
  },
  {
   "cell_type": "markdown",
   "id": "619cd38f",
   "metadata": {},
   "source": [
    "#### Loop through clusters and identify the highest SNR event within each cluster."
   ]
  },
  {
   "cell_type": "code",
   "execution_count": 42,
   "id": "78cf486a",
   "metadata": {},
   "outputs": [],
   "source": [
    "template_window = [-0.1,2] # time before and after P-wave to trim the template\n",
    "\n",
    "temp_ev_ids = []\n",
    "temps = []\n",
    "for c in clusters:\n",
    "    \n",
    "    # Pull in waveforms for one of the clusters\n",
    "    clust = reloc[reloc['clusterID']==c]\n",
    "    stream_list = []\n",
    "    id_list = []\n",
    "    for id in clust['evid']:\n",
    "        fid1 = 'sep2017_mseed/'+str(id)+'.mseed'\n",
    "        strm = obspy.read(fid1).detrend()\n",
    "         # Filter\n",
    "        strm.filter('bandpass',freqmin=8,freqmax=35)\n",
    "        stream_list.append(strm)\n",
    "        id_list.append(id)\n",
    "        \n",
    "    # Cut them to all be the same length\n",
    "    s_len = np.min([st[0].stats.npts for st in stream_list])\n",
    "    cut_stream_list = []\n",
    "    for st in stream_list:\n",
    "        t1 = st[0].stats.starttime\n",
    "        t2 = t1 + (s_len/200)\n",
    "        st.trim(starttime=t1,endtime=t2,nearest_sample=False)\n",
    "        if st[0].stats.npts > s_len:\n",
    "            cut_stream_list.append(st[:s_len])\n",
    "            \n",
    "    # Find event with highest mean SNR (remember that the miniseeds are saved to have 5 seconds before the P-wave arrival)\n",
    "    snr = []\n",
    "    for st in cut_stream_list:\n",
    "        snr_st = []\n",
    "        for i,tr in enumerate(st):\n",
    "            noise_amp = np.sqrt(np.mean(np.square(tr.data[0:900])))\n",
    "            snr_st.append(max(tr.data) / noise_amp)\n",
    "        snr.append(np.mean(snr_st))\n",
    "    t_ind = np.argmax(snr)\n",
    "    temp_ev_ids.append(id_list[t_ind])\n",
    "    "
   ]
  },
  {
   "cell_type": "code",
   "execution_count": 44,
   "id": "46db8bd0-b802-451b-abb3-449dc0391eb7",
   "metadata": {},
   "outputs": [
    {
     "data": {
      "text/plain": [
       "[519970,\n",
       " 519904,\n",
       " 520643,\n",
       " 520909,\n",
       " 519520,\n",
       " 520234,\n",
       " 519551,\n",
       " 519836,\n",
       " 520343,\n",
       " 520672,\n",
       " 520826,\n",
       " 520891]"
      ]
     },
     "execution_count": 44,
     "metadata": {},
     "output_type": "execute_result"
    }
   ],
   "source": [
    "temp_ev_ids"
   ]
  },
  {
   "cell_type": "markdown",
   "id": "2f7d6204",
   "metadata": {},
   "source": [
    "#### Make a new catalog that consists of the event metadata only for those events with best SNR."
   ]
  },
  {
   "cell_type": "code",
   "execution_count": 92,
   "id": "314ff5a2",
   "metadata": {},
   "outputs": [],
   "source": [
    "events = []\n",
    "for id in temp_ev_ids:\n",
    "    cat_ind = origin_ids.index(str(id))\n",
    "    events.append(cat[cat_ind])\n",
    "\n",
    "# Make sure to sort everything by times\n",
    "times = [e.origins[0].time for e in events]\n",
    "sort_ind = np.argsort(times)\n",
    "\n",
    "events = [events[i] for i in sort_ind]\n",
    "temp_ev_ids = [temp_ev_ids[i] for i in sort_ind]\n",
    "clusters = [clusters[i] for i in sort_ind]\n",
    "clust_cat = obspy.core.event.Catalog(events=events)"
   ]
  },
  {
   "cell_type": "markdown",
   "id": "ecb690d4",
   "metadata": {},
   "source": [
    "#### Create an eqcorrscan tribe for those events.\n",
    "#### NOTE: eqcorrscan automatically will sort the catalog by time, so I need to do that beforehand so that I get the labelling of the templates correct."
   ]
  },
  {
   "cell_type": "code",
   "execution_count": 93,
   "id": "8ef565e1",
   "metadata": {},
   "outputs": [
    {
     "name": "stderr",
     "output_type": "stream",
     "text": [
      "Signal-to-noise ratio 1.9950806047984326 below threshold for ENWF.HHE, not using\n",
      "No pick for NV.ENWF..HHE\n"
     ]
    }
   ],
   "source": [
    "# Write templates to a tribe\n",
    "client = Client('IRIS')\n",
    "tribe = Tribe().construct(\n",
    "    method=\"from_client\", lowcut=8.0, highcut=35.0, samp_rate=200.0, length=0.5,\n",
    "    filt_order=4, prepick=0.05, client_id=client, catalog=clust_cat, data_pad=20.,\n",
    "    process_len=3600, min_snr=2.0, parallel=True,swin='all',delayed=True)\n",
    "# Rename each template to have the growclust cluster number and the specific event ID\n",
    "for i,t in enumerate(tribe):\n",
    "    t.name = 'growclust'+str(clusters[i])+'_ev'+str(temp_ev_ids[i])"
   ]
  },
  {
   "cell_type": "code",
   "execution_count": 101,
   "id": "34571a7c-0429-4e91-b817-138b33ae4be1",
   "metadata": {
    "tags": []
   },
   "outputs": [
    {
     "data": {
      "text/plain": [
       "Event:\t2017-09-29T09:20:36.869000Z | +48.025, -129.123 | 0.70 Mw\n",
       "\n",
       "\t resource_id: ResourceIdentifier(id=\"quakeml:/Event/NV/520909\")\n",
       "\t  event_type: 'earthquake'\n",
       "\t        ---------\n",
       "\t    comments: 3 Elements\n",
       "\t       picks: 6 Elements\n",
       "\t     origins: 1 Elements\n",
       "\t  magnitudes: 1 Elements"
      ]
     },
     "execution_count": 101,
     "metadata": {},
     "output_type": "execute_result"
    }
   ],
   "source": [
    "tribe[11].event"
   ]
  },
  {
   "cell_type": "code",
   "execution_count": null,
   "id": "ca0d5fff-4722-4e82-a870-abe177645257",
   "metadata": {},
   "outputs": [],
   "source": []
  },
  {
   "cell_type": "markdown",
   "id": "0d10051d",
   "metadata": {},
   "source": [
    "#### Save tribe to file."
   ]
  },
  {
   "cell_type": "code",
   "execution_count": null,
   "id": "8337f91f",
   "metadata": {},
   "outputs": [],
   "source": [
    "tribe.write('growclust_templates_sep2017')"
   ]
  },
  {
   "cell_type": "code",
   "execution_count": null,
   "id": "53209126",
   "metadata": {},
   "outputs": [],
   "source": []
  },
  {
   "cell_type": "code",
   "execution_count": null,
   "id": "4c742a09",
   "metadata": {},
   "outputs": [],
   "source": []
  },
  {
   "cell_type": "code",
   "execution_count": null,
   "id": "455cccbd",
   "metadata": {},
   "outputs": [],
   "source": []
  },
  {
   "cell_type": "code",
   "execution_count": null,
   "id": "70af381e",
   "metadata": {},
   "outputs": [],
   "source": [
    "## Practice detecting with these cluster templates."
   ]
  },
  {
   "cell_type": "code",
   "execution_count": null,
   "id": "5c6fb629-0055-4535-b3ff-7c1c25de382d",
   "metadata": {},
   "outputs": [],
   "source": [
    "# Read in templates\n",
    "tribe = eqcorrscan.core.match_filter.tribe.read_tribe('growclust_templates_sep2017.tgz')"
   ]
  },
  {
   "cell_type": "code",
   "execution_count": null,
   "id": "c7ba7a53",
   "metadata": {},
   "outputs": [],
   "source": [
    "%%time\n",
    "\n",
    "# Now detect!\n",
    "client = Client('IRIS')\n",
    "t1 = obspy.UTCDateTime(\"2019-09-01\")\n",
    "t2 = obspy.UTCDateTime(\"2019-09-04\")\n",
    "\n",
    "party = tribe.client_detect(client,t1,t2,threshold=6, threshold_type='MAD',trig_int=1,process_cores=6)"
   ]
  },
  {
   "cell_type": "markdown",
   "id": "1054e1b1-1b5e-4319-b2da-2441d8ab3f2e",
   "metadata": {},
   "source": [
    "## Compare the detections made by a given template to the earthquakes the template represents"
   ]
  },
  {
   "cell_type": "markdown",
   "id": "6f2fae5a-770d-45e4-a9e7-cbbef3e189b4",
   "metadata": {},
   "source": [
    "### Note: it finds all the original earthquakes if I lower the MAD threshold to 6."
   ]
  },
  {
   "cell_type": "code",
   "execution_count": null,
   "id": "a9af13cb",
   "metadata": {},
   "outputs": [],
   "source": [
    "party_ind = 3\n",
    "\n",
    "temp_name = party[party_ind].template.name\n",
    "c_id = int(temp_name.split('growclust')[1].split('_')[0])\n",
    "clust = reloc[reloc['clusterID']==c_id]\n",
    "cat_compare = obspy.core.event.Catalog()\n",
    "for id in clust['evid']:\n",
    "    cat_ind = origin_ids.index(str(id))\n",
    "    cat_compare.append(cat[cat_ind])\n",
    "\n",
    "#cat_compare =cat.filter(\"time > 2017-09-29T09\",\n",
    "#                  \"time < 2017-09-29T10\")\n",
    "auto_times = [datetime.strptime(str(c.origins[0].time),'%Y-%m-%dT%H:%M:%S.%fZ') for c in cat_compare]\n",
    "xcorr_times = [p.detect_time for p in party[party_ind]]\n",
    "\n",
    "\n",
    "fig, ax = plt.subplots(1, 1,figsize=[15,5])\n",
    "ax.vlines(x=auto_times,ymin=0,ymax=1,colors ='r',linewidth=1)\n",
    "ax.vlines(x=xcorr_times,ymin=0,ymax=1,colors ='b',linewidth=1)\n",
    "ax.set_xlim([datetime(2017,9,29,9),datetime(2017,9,29,10)])\n",
    "ax.set_title('Cluster ' + str(c_id))"
   ]
  },
  {
   "cell_type": "markdown",
   "id": "1e07c258-3e74-4d74-b648-6e041e26be9c",
   "metadata": {},
   "source": [
    "### But not if I keep the MAD treshold higher, at 8"
   ]
  },
  {
   "cell_type": "code",
   "execution_count": null,
   "id": "d9947c44-450d-468c-a838-48487714c209",
   "metadata": {},
   "outputs": [],
   "source": [
    "party_ind = 3\n",
    "\n",
    "temp_name = party[party_ind].template.name\n",
    "c_id = int(temp_name.split('growclust')[1].split('_')[0])\n",
    "clust = reloc[reloc['clusterID']==c_id]\n",
    "cat_compare = obspy.core.event.Catalog()\n",
    "for id in clust['evid']:\n",
    "    cat_ind = origin_ids.index(str(id))\n",
    "    cat_compare.append(cat[cat_ind])\n",
    "\n",
    "#cat_compare =cat.filter(\"time > 2017-09-29T09\",\n",
    "#                  \"time < 2017-09-29T10\")\n",
    "auto_times = [datetime.strptime(str(c.origins[0].time),'%Y-%m-%dT%H:%M:%S.%fZ') for c in cat_compare]\n",
    "xcorr_times = [p.detect_time for p in party[party_ind]]\n",
    "\n",
    "\n",
    "fig, ax = plt.subplots(1, 1,figsize=[15,5])\n",
    "ax.vlines(x=auto_times,ymin=0,ymax=1,colors ='r',linewidth=3)\n",
    "ax.vlines(x=xcorr_times,ymin=0,ymax=1,colors ='b',linewidth=1)\n",
    "ax.set_xlim([datetime(2017,9,29,9),datetime(2017,9,29,10)])\n",
    "ax.set_title('Cluster ' + str(c_id))"
   ]
  },
  {
   "cell_type": "code",
   "execution_count": null,
   "id": "b05c7d55-2b3a-48a4-b5b3-8739e617cb6d",
   "metadata": {},
   "outputs": [],
   "source": [
    "%%time\n",
    "\n",
    "# Now detect!\n",
    "client = Client('IRIS')\n",
    "t1 = datetime(2019,9,1)\n",
    "t2 = datetime(2019,9,2)\n",
    "time_bins = pd.to_datetime(np.arange(t1,t2,pd.Timedelta(1,'hours')))\n",
    "\n",
    "@dask.delayed\n",
    "def loop_days(tribe,day1):\n",
    "    t1 = obspy.UTCDateTime(day1)\n",
    "    t2 = obspy.UTCDateTime(day1 + pd.Timedelta(1,'hours'))\n",
    "    try:\n",
    "        party = tribe.client_detect(client,t1,t2,threshold=6, threshold_type='MAD',trig_int=1,save_progress=True,process_cores=1,ignore_bad_data=True,concurrency='multiprocess')\n",
    "    except:\n",
    "        print(day1)\n",
    "        party = []\n",
    "    return party\n",
    "\n",
    "lazy_results = [loop_days(tribe,time) for time in time_bins]\n",
    "    \n",
    "results = dask.compute(lazy_results)\n",
    "\n",
    "#party.write('detections_sep2017')"
   ]
  },
  {
   "cell_type": "code",
   "execution_count": null,
   "id": "87a821a3-952f-41fa-9905-9286302692db",
   "metadata": {},
   "outputs": [],
   "source": [
    "# Combine the results from separate days into one party\n",
    "families = []\n",
    "num_templates = len(results[0][0].families)\n",
    "for i in range(num_templates):\n",
    "    fam_list = [p[i] for p in results[0]]\n",
    "    fam = fam_list[0]\n",
    "    for f in fam_list[1:]:\n",
    "        fam = fam.append(f)\n",
    "    families.append(fam)\n",
    "party2 = eqcorrscan.core.match_filter.party.Party(families=families)"
   ]
  },
  {
   "cell_type": "code",
   "execution_count": null,
   "id": "b7d92041",
   "metadata": {},
   "outputs": [],
   "source": [
    "for ind in range(10):\n",
    "    det = party[3][ind]\n",
    "    fig = plt.figure(figsize=(15, 10))\n",
    "    axs = fig.subplots(len(det.event.picks), 1, gridspec_kw={'hspace': 0})\n",
    "    for i,pick in enumerate(det.event.picks):\n",
    "        t1 = pick.time-5\n",
    "        t2 = pick.time+10\n",
    "        st = client.get_waveforms(\"NV\",pick.waveform_id.station_code,pick.waveform_id.location_code,pick.waveform_id.channel_code,t1,t2)\n",
    "        st.filter('bandpass',freqmin=5,freqmax=20)\n",
    "        st = st.taper(max_percentage=0.2)\n",
    "    \n",
    "        axs[i].plot(st[0].times(),st[0].data) \n",
    "        axs[i].set_title(pick.waveform_id.station_code+':'+pick.waveform_id.channel_code)"
   ]
  },
  {
   "cell_type": "code",
   "execution_count": null,
   "id": "db04bfd0-7456-43c3-a9fb-32000e645a97",
   "metadata": {},
   "outputs": [],
   "source": []
  }
 ],
 "metadata": {
  "kernelspec": {
   "display_name": "alaska-ml",
   "language": "python",
   "name": "alaska-ml"
  },
  "language_info": {
   "codemirror_mode": {
    "name": "ipython",
    "version": 3
   },
   "file_extension": ".py",
   "mimetype": "text/x-python",
   "name": "python",
   "nbconvert_exporter": "python",
   "pygments_lexer": "ipython3",
   "version": "3.9.12"
  }
 },
 "nbformat": 4,
 "nbformat_minor": 5
}
