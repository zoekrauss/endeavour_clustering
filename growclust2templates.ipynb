{
 "cells": [
  {
   "cell_type": "markdown",
   "id": "a32e4386-8048-4c7f-a596-e8c3b2b200d6",
   "metadata": {},
   "source": [
    "## From a GrowClust output catalog, loop through the defined clusters and find the event within the cluster with the highest SNR.\n",
    "## Save that event as an eqcorrscan template for matched-filter detection.\n",
    "## Do this for each cluster!"
   ]
  },
  {
   "cell_type": "code",
   "execution_count": 101,
   "id": "450d50d3-a1f6-4a99-bd9f-a44f9aa87982",
   "metadata": {},
   "outputs": [],
   "source": [
    "import pandas as pd\n",
    "import matplotlib.pyplot as plt\n",
    "import numpy as np\n",
    "from obspy.core.event import read_events\n",
    "import obspy\n",
    "import eqcorrscan\n",
    "import eqcorrscan.core.match_filter.template as template\n",
    "from obspy.clients.fdsn.client import Client"
   ]
  },
  {
   "cell_type": "markdown",
   "id": "2671b74e-151c-4e38-82bb-c52a6b958585",
   "metadata": {},
   "source": [
    "#### Read in GrowClust output catalog:"
   ]
  },
  {
   "cell_type": "code",
   "execution_count": 2,
   "id": "4ae358f3-e527-40bf-8c88-b43791596a67",
   "metadata": {},
   "outputs": [],
   "source": [
    "outfile = '/Users/zoekrauss/GrowClust3D/endeavour/data/out/end_out_0835_2.grid3D.cat'"
   ]
  },
  {
   "cell_type": "markdown",
   "id": "96dd3c03-cb16-45fb-8172-697eadf71c18",
   "metadata": {},
   "source": [
    "#### Get a list of distinct clusters:"
   ]
  },
  {
   "cell_type": "code",
   "execution_count": 56,
   "id": "78c42df6-b80d-4fdf-adbf-3cdc46393b64",
   "metadata": {},
   "outputs": [],
   "source": [
    "cat = pd.read_csv(outfile,header=None,delim_whitespace=True)\n",
    "cat.rename(columns={0:'yr',1:'mon',2:'day',3:'hr',4:'min',5:'sec',6:'evid',7:'latR',8:'lonR',9:'depR',\\\n",
    "                   10:'mag',11:'ev_serialID',12:'clusterID',13:'clustersize',14:'npair',15:'ndiffP',\\\n",
    "                   16:'ndiffS',17:'rmsP',18:'rmsS',19:'erh',20:'erz',21:'ert',22:'latC',23:'lonC',24:'depC'},inplace=True)\n",
    "\n",
    "# Make a datetime column\n",
    "cat = cat.astype({'yr':'int','mon':'int','day':'int','hr':'int','min':'int'})\n",
    "cat['eventTime'] = cat[[\"yr\",\"mon\",\"day\",\"hr\",\"min\"]].apply(lambda x: '-'.join(x.values.astype(int).astype(str)), axis=\"columns\")\n",
    "cat['eventTime'] = cat[['eventTime','sec']].apply(lambda x: '-'.join(x.values.astype(str)), axis=\"columns\")\n",
    "cat['eventTime']=pd.to_datetime(cat['eventTime'],format='%Y-%m-%d-%H-%M-%S.%f')\n",
    "\n",
    "\n",
    "# Isolate events that actually got relocated\n",
    "reloc = cat[~cat['rmsP'].isnull()]\n",
    "clusters = reloc['clusterID'].unique()"
   ]
  },
  {
   "cell_type": "markdown",
   "id": "97454b24-3367-435e-9c24-c336e4edc3aa",
   "metadata": {},
   "source": [
    "#### Read in the catalog that was input to GrowClust:"
   ]
  },
  {
   "cell_type": "code",
   "execution_count": 19,
   "id": "e7daab12-d5a5-4929-bd9c-f8b02b22a53a",
   "metadata": {},
   "outputs": [],
   "source": [
    "cat = read_events('endquakes_2017.xml')\n",
    "origin_ids = [str(p.resource_id)[-6:] for p in cat]"
   ]
  },
  {
   "cell_type": "markdown",
   "id": "26920717-51c3-4975-aadd-18b9538b66ec",
   "metadata": {},
   "source": [
    "#### Loop through clusters and save the highest SNR event as eqcorrscan template:"
   ]
  },
  {
   "cell_type": "code",
   "execution_count": 111,
   "id": "4dbe0b9d-b3cb-4585-954a-d745dc5489b3",
   "metadata": {},
   "outputs": [],
   "source": [
    "temps = []\n",
    "for c in clusters:\n",
    "    \n",
    "    # Pull in waveforms for one of the clusters\n",
    "    clust = reloc[reloc['clusterID']==c]\n",
    "    stream_list = []\n",
    "    for id in clust['evid']:\n",
    "        fid1 = 'sep2017_mseed/'+str(id)+'.mseed'\n",
    "        strm = obspy.read(fid1).detrend()\n",
    "         # Filter\n",
    "        strm.filter('bandpass',freqmin=8,freqmax=35)\n",
    "        stream_list.append(strm)\n",
    "        \n",
    "    # Cut them to all be the same length\n",
    "    s_len = np.min([st[0].stats.npts for st in stream_list])\n",
    "    cut_stream_list = []\n",
    "    for st in stream_list:\n",
    "        t1 = st[0].stats.starttime\n",
    "        t2 = t1 + (s_len/200)\n",
    "        st.trim(starttime=t1,endtime=t2,nearest_sample=False)\n",
    "        if st[0].stats.npts > s_len:\n",
    "            cut_stream_list.append(st[:s_len])\n",
    "            \n",
    "    # Find event with highest mean SNR (remember that the miniseeds are saved to have 5 seconds before the P-wave arrival)\n",
    "    snr = []\n",
    "    for st in cut_stream_list:\n",
    "        snr_st = []\n",
    "        for i,tr in enumerate(st):\n",
    "            noise_amp = np.sqrt(np.mean(np.square(tr.data[0:900])))\n",
    "            snr_st.append(max(tr.data) / noise_amp)\n",
    "        snr.append(np.mean(snr_st))\n",
    "    t_ind = np.argmax(snr)\n",
    "    \n",
    "    # Save that event as an eqcorrscan template\n",
    "    temps.append(template.Template(name=str(c), st=cut_stream_list[t_ind], lowcut=8, highcut=35, samp_rate=200, prepick=5,process_length = 10,filt_order = 4))"
   ]
  },
  {
   "cell_type": "code",
   "execution_count": 112,
   "id": "e0087d26-8963-4785-8d2d-7c714d2f2633",
   "metadata": {},
   "outputs": [
    {
     "name": "stderr",
     "output_type": "stream",
     "text": [
      "Error, routine incomplete, returning incomplete Party\n",
      "Error: Template traces not all the same length\n"
     ]
    }
   ],
   "source": [
    "# Write templates to a tribe\n",
    "tribe = eqcorrscan.core.match_filter.tribe.Tribe(templates = temps)\n",
    "\n",
    "# Now detect!\n",
    "client = Client('IRIS')\n",
    "t1 = obspy.UTCDateTime(\"2017-09-01-17\")\n",
    "t2 = obspy.UTCDateTime(\"2017-09-01-18\")\n",
    "\n",
    "party = tribe.client_detect(client,t1,t2,threshold=8, threshold_type='MAD',trig_int=1)"
   ]
  },
  {
   "cell_type": "code",
   "execution_count": null,
   "id": "53e0794f-c489-48b8-9e1f-551bc52a4392",
   "metadata": {},
   "outputs": [],
   "source": []
  }
 ],
 "metadata": {
  "kernelspec": {
   "display_name": "alaska-ml",
   "language": "python",
   "name": "alaska-ml"
  },
  "language_info": {
   "codemirror_mode": {
    "name": "ipython",
    "version": 3
   },
   "file_extension": ".py",
   "mimetype": "text/x-python",
   "name": "python",
   "nbconvert_exporter": "python",
   "pygments_lexer": "ipython3",
   "version": "3.9.12"
  }
 },
 "nbformat": 4,
 "nbformat_minor": 5
}
