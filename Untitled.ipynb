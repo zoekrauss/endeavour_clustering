{
 "cells": [
  {
   "cell_type": "code",
   "execution_count": 11,
   "id": "a7e74b55-fcc9-4301-ba8a-bb1dcdbef2df",
   "metadata": {},
   "outputs": [],
   "source": [
    "from datetime import datetime\n",
    "import pandas as pd\n",
    "\n",
    "time_splits = [1,2,3,5,6,10,30] # number of days to split the month up into\n",
    "start = datetime.now()\n",
    "\n",
    "durations = []\n",
    "for t in time_splits:\n",
    "    end = datetime.now() - pd.Timedelta(t,'days')\n",
    "    durations.append(start-end)"
   ]
  }
 ],
 "metadata": {
  "kernelspec": {
   "display_name": "alaska-ml",
   "language": "python",
   "name": "alaska-ml"
  },
  "language_info": {
   "codemirror_mode": {
    "name": "ipython",
    "version": 3
   },
   "file_extension": ".py",
   "mimetype": "text/x-python",
   "name": "python",
   "nbconvert_exporter": "python",
   "pygments_lexer": "ipython3",
   "version": "3.9.12"
  }
 },
 "nbformat": 4,
 "nbformat_minor": 5
}
